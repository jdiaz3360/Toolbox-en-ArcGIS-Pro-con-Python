{
 "cells": [
  {
   "cell_type": "code",
   "execution_count": 17,
   "metadata": {},
   "outputs": [],
   "source": [
    "import arcpy\n",
    "import os\n",
    "import pandas as pd"
   ]
  },
  {
   "cell_type": "code",
   "execution_count": 18,
   "metadata": {},
   "outputs": [],
   "source": [
    "BASE_DIR = r\"C:\\Tutor_GIS\\Python a tareas comunes en GIS\"\n",
    "CSV_PATH = os.path.join(BASE_DIR, \"Sexo_por_Poblacion.csv\")\n",
    "GDB_IN = os.path.join(BASE_DIR, \"Datos_Entrada.gdb\")\n",
    "GDB_OUT = os.path.join(BASE_DIR, \"Datos_Salida.gdb\")"
   ]
  },
  {
   "cell_type": "code",
   "execution_count": 20,
   "metadata": {},
   "outputs": [
    {
     "name": "stdout",
     "output_type": "stream",
     "text": [
      "📁 Workspace configurado en: C:\\Tutor_GIS\\Python a tareas comunes en GIS\\Datos_Salida.gdb\n"
     ]
    }
   ],
   "source": [
    "arcpy.env.workspace = GDB_OUT\n",
    "arcpy.env.overwriteOutput = True\n",
    "print(f\"📁 Workspace configurado en: {arcpy.env.workspace}\")"
   ]
  },
  {
   "cell_type": "code",
   "execution_count": 21,
   "metadata": {},
   "outputs": [],
   "source": [
    "# Nombre del Feature Class de provincias\n",
    "PROVINCIAS_FC = os.path.join(GDB_IN, \"Provincia\")\n",
    "OUT_FEATURE = os.path.join(GDB_OUT, \"Provincias_Poblacion\")"
   ]
  },
  {
   "cell_type": "code",
   "execution_count": 22,
   "metadata": {},
   "outputs": [
    {
     "name": "stdout",
     "output_type": "stream",
     "text": [
      "📥 Leyendo CSV de población...\n",
      "✅ CSV leído correctamente con encoding → latin1\n"
     ]
    }
   ],
   "source": [
    "# ========= LEER CSV =========\n",
    "print(\"📥 Leyendo CSV de población...\")\n",
    "df = None\n",
    "encodings = [\"utf-8\", \"latin1\", \"cp1252\"]\n",
    "\n",
    "for enc in encodings:\n",
    "    try:\n",
    "        df = pd.read_csv(CSV_PATH, encoding=enc)\n",
    "        print(f\"✅ CSV leído correctamente con encoding → {enc}\")\n",
    "        break\n",
    "    except UnicodeDecodeError:\n",
    "        continue\n",
    "\n",
    "if df is None:\n",
    "    raise ValueError(\"❌ No se pudo leer el CSV con los encodings probados.\")"
   ]
  },
  {
   "cell_type": "code",
   "execution_count": 23,
   "metadata": {},
   "outputs": [],
   "source": [
    "# Limpieza preventiva de texto\n",
    "df[\"Provincia\"] = df[\"Provincia\"].astype(str).str.strip().str.upper()"
   ]
  },
  {
   "cell_type": "code",
   "execution_count": 24,
   "metadata": {
    "scrolled": true
   },
   "outputs": [
    {
     "name": "stdout",
     "output_type": "stream",
     "text": [
      "\n",
      "Vista previa del CSV limpio:\n",
      "           Provincia  Hombres  Mujeres      Total\n",
      "0  DISTRITO NACIONAL  490,423  538,687  1,029,110\n",
      "1               AZUA  124,146  116,063    240,209\n",
      "2            BAORUCO   55,629   53,088    108,717\n",
      "3           BARAHONA  101,378   99,508    200,886\n",
      "4            DAJABÓN   37,876   36,934     74,810\n"
     ]
    }
   ],
   "source": [
    "# Guardar versión limpia del CSV\n",
    "CSV_LIMPIO = os.path.join(GDB_OUT, \"Sexo_por_Poblacion_LIMPIO.csv\")\n",
    "df.to_csv(CSV_LIMPIO, index=False, encoding=\"latin1\")\n",
    "\n",
    "print(\"\\nVista previa del CSV limpio:\")\n",
    "print(df.head())"
   ]
  },
  {
   "cell_type": "code",
   "execution_count": 25,
   "metadata": {},
   "outputs": [
    {
     "name": "stdout",
     "output_type": "stream",
     "text": [
      "📤 Convirtiendo CSV a tabla en la geodatabase de salida...\n"
     ]
    }
   ],
   "source": [
    "# ========= EXPORTAR CSV A GDB COMO TABLA =========\n",
    "print(\"📤 Convirtiendo CSV a tabla en la geodatabase de salida...\")\n",
    "\n",
    "tabla_temp = os.path.join(GDB_OUT, \"Tabla_Poblacion\")\n",
    "if arcpy.Exists(tabla_temp):\n",
    "    arcpy.management.Delete(tabla_temp)"
   ]
  },
  {
   "cell_type": "code",
   "execution_count": 26,
   "metadata": {},
   "outputs": [
    {
     "name": "stdout",
     "output_type": "stream",
     "text": [
      "✅ Tabla temporal creada correctamente en: C:\\Tutor_GIS\\Python a tareas comunes en GIS\\Datos_Salida.gdb\\Tabla_Poblacion\n"
     ]
    }
   ],
   "source": [
    "# Convertimos el CSV limpio a tabla dentro de la GDB de salida\n",
    "arcpy.conversion.TableToTable(CSV_LIMPIO, GDB_OUT, \"Tabla_Poblacion\")\n",
    "print(f\"✅ Tabla temporal creada correctamente en: {tabla_temp}\")"
   ]
  },
  {
   "cell_type": "code",
   "execution_count": 27,
   "metadata": {},
   "outputs": [
    {
     "name": "stdout",
     "output_type": "stream",
     "text": [
      "🔗 Ejecutando Join entre provincias y tabla de población...\n"
     ]
    }
   ],
   "source": [
    "# ========= CREAR LAYER TEMPORAL Y HACER JOIN =========\n",
    "print(\"🔗 Ejecutando Join entre provincias y tabla de población...\")\n",
    "\n",
    "layer_temp = \"Provincia_Layer\"\n",
    "if arcpy.Exists(layer_temp):\n",
    "    arcpy.management.Delete(layer_temp)"
   ]
  },
  {
   "cell_type": "code",
   "execution_count": 28,
   "metadata": {},
   "outputs": [],
   "source": [
    "# Crear capa temporal desde el Feature Class\n",
    "arcpy.management.MakeFeatureLayer(PROVINCIAS_FC, layer_temp)\n",
    "\n",
    "# Campos comunes\n",
    "campo_fc = \"NOM_PRO\"\n",
    "campo_tabla = \"Provincia\""
   ]
  },
  {
   "cell_type": "code",
   "execution_count": 29,
   "metadata": {},
   "outputs": [
    {
     "data": {
      "text/html": [
       "<div class='gpresult'><h2 class='msg-title'>Messages</h2><div id='messages'>Start Time: Thursday, October 30, 2025 12:42:42 PM<br>Succeeded at Thursday, October 30, 2025 12:42:43 PM (Elapsed Time: 0.14 seconds)<br></div><div id = 'default' /></div></div>"
      ],
      "text/plain": [
       "<Result 'Provincia_Layer'>"
      ]
     },
     "execution_count": 29,
     "metadata": {},
     "output_type": "execute_result"
    }
   ],
   "source": [
    "# Aplicar Join\n",
    "arcpy.management.AddJoin(layer_temp, campo_fc, tabla_temp, campo_tabla, \"KEEP_COMMON\")"
   ]
  },
  {
   "cell_type": "code",
   "execution_count": 30,
   "metadata": {},
   "outputs": [
    {
     "name": "stdout",
     "output_type": "stream",
     "text": [
      "✅ Join completado y exportado a: C:\\Tutor_GIS\\Python a tareas comunes en GIS\\Datos_Salida.gdb\\Provincias_Poblacion\n"
     ]
    }
   ],
   "source": [
    "# Exportar el resultado del Join\n",
    "if arcpy.Exists(OUT_FEATURE):\n",
    "    arcpy.management.Delete(OUT_FEATURE)\n",
    "\n",
    "arcpy.conversion.FeatureClassToFeatureClass(layer_temp, GDB_OUT, \"Provincias_Poblacion\")\n",
    "print(f\"✅ Join completado y exportado a: {OUT_FEATURE}\")"
   ]
  },
  {
   "cell_type": "code",
   "execution_count": 31,
   "metadata": {},
   "outputs": [
    {
     "name": "stdout",
     "output_type": "stream",
     "text": [
      "🧹 Capa temporal eliminada. Proceso finalizado correctamente 🎉\n",
      "\n",
      "--- RESUMEN FINAL ---\n",
      "🗂 Tabla creada: C:\\Tutor_GIS\\Python a tareas comunes en GIS\\Datos_Salida.gdb\\Tabla_Poblacion\n",
      "🗺  Capa final creada: C:\\Tutor_GIS\\Python a tareas comunes en GIS\\Datos_Salida.gdb\\Provincias_Poblacion\n",
      "📍 Todas las salidas se guardaron en: C:\\Tutor_GIS\\Python a tareas comunes en GIS\\Datos_Salida.gdb\n"
     ]
    }
   ],
   "source": [
    "# ========= LIMPIEZA =========\n",
    "arcpy.management.Delete(layer_temp)\n",
    "print(\"🧹 Capa temporal eliminada. Proceso finalizado correctamente 🎉\")\n",
    "\n",
    "print(\"\\n--- RESUMEN FINAL ---\")\n",
    "print(f\"🗂 Tabla creada: {tabla_temp}\")\n",
    "print(f\"🗺  Capa final creada: {OUT_FEATURE}\")\n",
    "print(f\"📍 Todas las salidas se guardaron en: {GDB_OUT}\")"
   ]
  },
  {
   "cell_type": "code",
   "execution_count": null,
   "metadata": {},
   "outputs": [],
   "source": []
  }
 ],
 "metadata": {
  "kernelspec": {
   "display_name": "ArcGISPro",
   "language": "python",
   "name": "python3"
  },
  "language_info": {
   "file_extension": ".py",
   "mimetype": "text/x-python",
   "name": "python",
   "version": "3.11.10"
  }
 },
 "nbformat": 4,
 "nbformat_minor": 4
}
